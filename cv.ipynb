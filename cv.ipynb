{
 "cells": [
  {
   "cell_type": "code",
   "execution_count": 2,
   "metadata": {},
   "outputs": [],
   "source": [
    "import os\n",
    "import cv2\n",
    "\n",
    "deploy_path = 'deploy.prototxt'\n",
    "model_path = 'res10_300x300_ssd_iter_140000.caffemodel'\n",
    "\n",
    "if not os.path.exists(deploy_path):\n",
    "    print(f'File not found: {deploy_path}')\n",
    "if not os.path.exists(model_path):\n",
    "    print(f'File not found: {model_path}')\n",
    "\n",
    "net = cv2.dnn.readNetFromCaffe(deploy_path, model_path)\n"
   ]
  },
  {
   "cell_type": "code",
   "execution_count": 8,
   "metadata": {},
   "outputs": [
    {
     "data": {
      "text/plain": [
       "True"
      ]
     },
     "execution_count": 8,
     "metadata": {},
     "output_type": "execute_result"
    }
   ],
   "source": [
    "import cv2\n",
    "import numpy as np\n",
    "\n",
    "# Загрузка предварительно обученной модели DNN\n",
    "net = cv2.dnn.readNetFromCaffe('deploy.prototxt', 'res10_300x300_ssd_iter_140000.caffemodel')\n",
    "\n",
    "# Загрузка цветного изображения\n",
    "image = cv2.imread('images.jpeg')\n",
    "h, w = image.shape[:2]\n",
    "\n",
    "# Подготовка изображения для нейронной сети\n",
    "blob = cv2.dnn.blobFromImage(cv2.resize(image, (300, 300)), 1.0, (300, 300), (104.0, 177.0, 123.0))\n",
    "\n",
    "# Обнаружение лиц\n",
    "net.setInput(blob)\n",
    "detections = net.forward()\n",
    "\n",
    "# Рисование ограничивающих рамок вокруг лиц\n",
    "for i in range(detections.shape[2]):\n",
    "    confidence = detections[0, 0, i, 2]\n",
    "    if confidence > 0.5:\n",
    "        box = detections[0, 0, i, 3:7] * np.array([w, h, w, h])\n",
    "        (startX, startY, endX, endY) = box.astype(\"int\")\n",
    "        cv2.rectangle(image, (startX, startY), (endX, endY), (255, 0, 0), 2)\n",
    "\n",
    "# Отображение результата\n",
    "cv2.imshow('Faces detected', image)\n",
    "cv2.waitKey(0)\n",
    "cv2.destroyAllWindows()\n",
    "\n",
    "# Сохранение результата\n",
    "cv2.imwrite('output_dnn.jpg', image)\n"
   ]
  },
  {
   "cell_type": "code",
   "execution_count": 3,
   "metadata": {},
   "outputs": [
    {
     "name": "stdout",
     "output_type": "stream",
     "text": [
      "Количество объектов: 7\n"
     ]
    },
    {
     "name": "stderr",
     "output_type": "stream",
     "text": [
      "qt.qpa.plugin: Could not find the Qt platform plugin \"wayland\" in \"/home/useing123/.local/lib/python3.10/site-packages/cv2/qt/plugins\"\n"
     ]
    },
    {
     "data": {
      "text/plain": [
       "True"
      ]
     },
     "execution_count": 3,
     "metadata": {},
     "output_type": "execute_result"
    }
   ],
   "source": [
    "# Загрузка изображения\n",
    "image = cv2.imread('images.jpeg', cv2.IMREAD_GRAYSCALE)\n",
    "\n",
    "# Устранение шума с помощью размытия\n",
    "blurred = cv2.GaussianBlur(image, (5, 5), 0)\n",
    "\n",
    "# Применение метода Оцу для бинаризации изображения\n",
    "_, binary_otsu = cv2.threshold(blurred, 0, 255, cv2.THRESH_BINARY + cv2.THRESH_OTSU)\n",
    "\n",
    "# Или использование адаптивной бинаризации\n",
    "binary_adaptive = cv2.adaptiveThreshold(blurred, 255, cv2.ADAPTIVE_THRESH_GAUSSIAN_C, cv2.THRESH_BINARY, 11, 2)\n",
    "\n",
    "# Выбор бинаризованного изображения (один из двух методов)\n",
    "binary_image = binary_otsu  # или binary_adaptive\n",
    "\n",
    "# Найти контуры объектов\n",
    "contours, _ = cv2.findContours(binary_image, cv2.RETR_EXTERNAL, cv2.CHAIN_APPROX_SIMPLE)\n",
    "\n",
    "# Подсчет количества объектов\n",
    "num_objects = len(contours)\n",
    "\n",
    "# Отображение результата\n",
    "output_image = cv2.cvtColor(binary_image, cv2.COLOR_GRAY2BGR)\n",
    "cv2.drawContours(output_image, contours, -1, (0, 255, 0), 2)\n",
    "\n",
    "print(f'Количество объектов: {num_objects}')\n",
    "\n",
    "# Показать изображение с контурами\n",
    "cv2.imshow('Objects detected', output_image)\n",
    "cv2.waitKey(0)\n",
    "cv2.destroyAllWindows()\n",
    "\n",
    "# Сохранение результата\n",
    "cv2.imwrite('output_objects.jpg', output_image)\n"
   ]
  }
 ],
 "metadata": {
  "kernelspec": {
   "display_name": "Python 3",
   "language": "python",
   "name": "python3"
  },
  "language_info": {
   "codemirror_mode": {
    "name": "ipython",
    "version": 3
   },
   "file_extension": ".py",
   "mimetype": "text/x-python",
   "name": "python",
   "nbconvert_exporter": "python",
   "pygments_lexer": "ipython3",
   "version": "3.10.12"
  }
 },
 "nbformat": 4,
 "nbformat_minor": 2
}
