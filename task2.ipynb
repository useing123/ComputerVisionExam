{
 "cells": [
  {
   "cell_type": "code",
   "execution_count": 5,
   "metadata": {},
   "outputs": [],
   "source": [
    "import cv2\n",
    "import numpy as np"
   ]
  },
  {
   "cell_type": "code",
   "execution_count": 6,
   "metadata": {},
   "outputs": [
    {
     "data": {
      "text/plain": [
       "True"
      ]
     },
     "execution_count": 6,
     "metadata": {},
     "output_type": "execute_result"
    }
   ],
   "source": [
    "\n",
    "# Создание пустого белого изображения\n",
    "test_image = np.ones((500, 500), dtype=\"uint8\") * 255\n",
    "\n",
    "# Рисование нескольких кругов (объектов) на изображении\n",
    "cv2.circle(test_image, (100, 100), 40, (0, 0, 0), -1)  # Черный круг\n",
    "cv2.circle(test_image, (300, 100), 50, (0, 0, 0), -1)  # Черный круг\n",
    "cv2.circle(test_image, (100, 300), 30, (0, 0, 0), -1)  # Черный круг\n",
    "cv2.circle(test_image, (300, 300), 60, (0, 0, 0), -1)  # Черный круг\n",
    "\n",
    "# Сохранение изображения\n",
    "cv2.imwrite('test_image.png', test_image)\n"
   ]
  },
  {
   "cell_type": "code",
   "execution_count": 7,
   "metadata": {},
   "outputs": [
    {
     "name": "stdout",
     "output_type": "stream",
     "text": [
      "Найдено контуров: 4\n",
      "Количество объектов на изображении: 4\n"
     ]
    },
    {
     "data": {
      "text/plain": [
       "4"
      ]
     },
     "execution_count": 7,
     "metadata": {},
     "output_type": "execute_result"
    }
   ],
   "source": [
    "def count_objects(image_path, binary_image_path='test_image.png', contours_image_path='contours_image.png'):\n",
    "    # Шаг 1: Загрузка изображения\n",
    "    image = cv2.imread(image_path, cv2.IMREAD_GRAYSCALE)\n",
    "\n",
    "    if image is None:\n",
    "        print(\"Ошибка загрузки изображения\")\n",
    "        return\n",
    "\n",
    "    # Показать исходное изображение\n",
    "    cv2.imshow('Original Image', image)\n",
    "    cv2.waitKey(0)\n",
    "\n",
    "    # Шаг 2: Применение бинаризации методом Оцу\n",
    "    blur = cv2.GaussianBlur(image, (5, 5), 0)  # Применение гауссовского размытия для устранения шума\n",
    "    _, binary_image = cv2.threshold(blur, 0, 255, cv2.THRESH_BINARY + cv2.THRESH_OTSU)\n",
    "    \n",
    "    # Инвертируем изображение, так как findContours ищет белые объекты на черном фоне\n",
    "    binary_image = cv2.bitwise_not(binary_image)\n",
    "    \n",
    "    # Сохранение бинаризованного изображения\n",
    "    cv2.imwrite(binary_image_path, binary_image)\n",
    "    \n",
    "    # Показать бинаризированное изображение\n",
    "    cv2.imshow('Binary Image', binary_image)\n",
    "    cv2.waitKey(0)\n",
    "    \n",
    "    # Шаг 3: Найти контуры\n",
    "    contours, _ = cv2.findContours(binary_image, cv2.RETR_EXTERNAL, cv2.CHAIN_APPROX_SIMPLE)\n",
    "    \n",
    "    # Отладочное сообщение для проверки количества найденных контуров\n",
    "    print(f'Найдено контуров: {len(contours)}')\n",
    "\n",
    "    # Шаг 4: Подсчет объектов\n",
    "    number_of_objects = len(contours)\n",
    "    \n",
    "    # Показать изображение с контурами\n",
    "    output_image = cv2.cvtColor(image, cv2.COLOR_GRAY2BGR)\n",
    "    cv2.drawContours(output_image, contours, -1, (0, 255, 0), 2)\n",
    "    \n",
    "    # Сохранение изображения с контурами\n",
    "    cv2.imwrite(contours_image_path, output_image)\n",
    "    \n",
    "    cv2.imshow('Contours', output_image)\n",
    "    cv2.waitKey(0)\n",
    "    cv2.destroyAllWindows()\n",
    "    \n",
    "    print(f'Количество объектов на изображении: {number_of_objects}')\n",
    "    return number_of_objects\n",
    "\n",
    "# Пример использования\n",
    "image_path = 'test_image.png'\n",
    "binary_image_path = 'binary_test_image.png'\n",
    "contours_image_path = 'contours_test_image.png'\n",
    "count_objects(image_path, binary_image_path, contours_image_path)\n"
   ]
  }
 ],
 "metadata": {
  "kernelspec": {
   "display_name": "Python 3",
   "language": "python",
   "name": "python3"
  },
  "language_info": {
   "codemirror_mode": {
    "name": "ipython",
    "version": 3
   },
   "file_extension": ".py",
   "mimetype": "text/x-python",
   "name": "python",
   "nbconvert_exporter": "python",
   "pygments_lexer": "ipython3",
   "version": "3.10.12"
  }
 },
 "nbformat": 4,
 "nbformat_minor": 2
}
