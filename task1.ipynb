{
 "cells": [
  {
   "cell_type": "code",
   "execution_count": 2,
   "metadata": {},
   "outputs": [],
   "source": [
    "import os\n",
    "import cv2\n",
    "\n",
    "deploy_path = 'deploy.prototxt'\n",
    "model_path = 'res10_300x300_ssd_iter_140000.caffemodel'\n",
    "\n",
    "if not os.path.exists(deploy_path):\n",
    "    print(f'File not found: {deploy_path}')\n",
    "if not os.path.exists(model_path):\n",
    "    print(f'File not found: {model_path}')\n",
    "\n",
    "net = cv2.dnn.readNetFromCaffe(deploy_path, model_path)"
   ]
  },
  {
   "cell_type": "code",
   "execution_count": 1,
   "metadata": {},
   "outputs": [
    {
     "name": "stderr",
     "output_type": "stream",
     "text": [
      "qt.qpa.plugin: Could not find the Qt platform plugin \"wayland\" in \"/home/useing123/.local/lib/python3.10/site-packages/cv2/qt/plugins\"\n"
     ]
    },
    {
     "data": {
      "text/plain": [
       "True"
      ]
     },
     "execution_count": 1,
     "metadata": {},
     "output_type": "execute_result"
    }
   ],
   "source": [
    "import cv2\n",
    "import numpy as np\n",
    "\n",
    "# Загрузка предварительно обученной модели DNN\n",
    "net = cv2.dnn.readNetFromCaffe('deploy.prototxt', 'res10_300x300_ssd_iter_140000.caffemodel')\n",
    "\n",
    "# Загрузка цветного изображения\n",
    "image = cv2.imread('images.jpeg')\n",
    "h, w = image.shape[:2]\n",
    "\n",
    "# Подготовка изображения для нейронной сети\n",
    "blob = cv2.dnn.blobFromImage(cv2.resize(image, (300, 300)), 1.0, (300, 300), (104.0, 177.0, 123.0))\n",
    "\n",
    "# Обнаружение лиц\n",
    "net.setInput(blob)\n",
    "detections = net.forward()\n",
    "\n",
    "# Рисование ограничивающих рамок вокруг лиц\n",
    "for i in range(detections.shape[2]):\n",
    "    confidence = detections[0, 0, i, 2]\n",
    "    if confidence > 0.5:\n",
    "        box = detections[0, 0, i, 3:7] * np.array([w, h, w, h])\n",
    "        (startX, startY, endX, endY) = box.astype(\"int\")\n",
    "        cv2.rectangle(image, (startX, startY), (endX, endY), (255, 0, 0), 2)\n",
    "\n",
    "# Отображение результата\n",
    "cv2.imshow('Faces detected', image)\n",
    "cv2.waitKey(0)\n",
    "cv2.destroyAllWindows()\n",
    "\n",
    "# Сохранение результата\n",
    "cv2.imwrite('output_dnn.jpg', image)\n"
   ]
  }
 ],
 "metadata": {
  "kernelspec": {
   "display_name": "Python 3",
   "language": "python",
   "name": "python3"
  },
  "language_info": {
   "codemirror_mode": {
    "name": "ipython",
    "version": 3
   },
   "file_extension": ".py",
   "mimetype": "text/x-python",
   "name": "python",
   "nbconvert_exporter": "python",
   "pygments_lexer": "ipython3",
   "version": "3.10.12"
  }
 },
 "nbformat": 4,
 "nbformat_minor": 2
}
